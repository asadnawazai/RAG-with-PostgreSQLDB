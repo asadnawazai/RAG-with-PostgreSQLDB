{
 "cells": [
  {
   "cell_type": "code",
   "execution_count": 1,
   "metadata": {},
   "outputs": [],
   "source": [
    "import os\n",
    "import openai\n",
    "api_key = os.getenv(\"openai_api_key\")"
   ]
  },
  {
   "cell_type": "code",
   "execution_count": 2,
   "metadata": {},
   "outputs": [],
   "source": [
    "import psycopg2"
   ]
  },
  {
   "cell_type": "code",
   "execution_count": 11,
   "metadata": {},
   "outputs": [
    {
     "name": "stdout",
     "output_type": "stream",
     "text": [
      "Connected to the database successfully!\n"
     ]
    }
   ],
   "source": [
    "import psycopg2\n",
    "import openai\n",
    "import pandas as pd\n",
    "import json\n",
    "\n",
    "db_params = {\n",
    "    \"dbname\": \"aihistory\",\n",
    "    \"user\": \"postgres\",\n",
    "    \"password\": \"4555\",\n",
    "    \"host\": \"localhost\",\n",
    "    \"port\": \"5432\"\n",
    "}\n",
    "openai.api_key = api_key\n",
    "try:\n",
    "    conn = psycopg2.connect(**db_params)\n",
    "    cursor = conn.cursor()\n",
    "    print(\"Connected to the database successfully!\")\n",
    "except psycopg2.OperationalError as e:\n",
    "    print(\"Operational error:\", e)"
   ]
  },
  {
   "cell_type": "code",
   "execution_count": 12,
   "metadata": {},
   "outputs": [
    {
     "name": "stdout",
     "output_type": "stream",
     "text": [
      "6 rows inserted into the table successfully.\n"
     ]
    }
   ],
   "source": [
    "csv_file_path = r'C:\\Users\\Dell User\\Desktop\\New-RAG\\history_of_ai.csv'\n",
    "df = pd.read_csv(csv_file_path)\n",
    "try:\n",
    "    for _, row in df.iterrows():\n",
    "        cursor.execute(\n",
    "            \"INSERT INTO mydata (year, event, description, impact) VALUES (%s, %s, %s, %s)\",\n",
    "            (row['Year'], row['Event'], row['Description'], row['Impact'])\n",
    "        )\n",
    "    conn.commit()\n",
    "    print(f\"{len(df)} rows inserted into the table successfully.\")\n",
    "except Exception as e:\n",
    "    print(\"Error inserting data:\", e)"
   ]
  },
  {
   "cell_type": "code",
   "execution_count": 13,
   "metadata": {},
   "outputs": [
    {
     "name": "stdout",
     "output_type": "stream",
     "text": [
      "Connected to the database successfully!\n",
      "Updated embeddings for year: 1956\n",
      "Committed after processing 0 records.\n",
      "Updated embeddings for year: 1966\n",
      "Updated embeddings for year: 1980\n",
      "Updated embeddings for year: 1997\n",
      "Updated embeddings for year: 2011\n",
      "Updated embeddings for year: 2023\n",
      "All embeddings generated and stored successfully.\n",
      "Database connection closed.\n"
     ]
    }
   ],
   "source": [
    "import psycopg2\n",
    "import openai\n",
    "import json\n",
    "\n",
    "db_params = {\n",
    "    \"dbname\": \"aihistory\",\n",
    "    \"user\": \"postgres\",\n",
    "    \"password\": \"4555\",\n",
    "    \"host\": \"localhost\",\n",
    "    \"port\": \"5432\"\n",
    "}\n",
    "\n",
    "openai.api_key = api_key\n",
    "def generate_embeddings(text):\n",
    "    try:\n",
    "        response = openai.Embedding.create(\n",
    "            input=text,\n",
    "            model=\"text-embedding-ada-002\"\n",
    "        )\n",
    "        return response['data'][0]['embedding']\n",
    "    except openai.error.OpenAIError as e:\n",
    "        print(f\"OpenAI API error: {e}\")\n",
    "        return None\n",
    "\n",
    "try:\n",
    "    conn = psycopg2.connect(**db_params)\n",
    "    cursor = conn.cursor()\n",
    "    print(\"Connected to the database successfully!\")\n",
    "    cursor.execute(\"SELECT year, description FROM mydata WHERE embeddings IS NULL;\")\n",
    "    rows = cursor.fetchall()\n",
    "\n",
    "    for i, row in enumerate(rows):\n",
    "        year = row[0] \n",
    "        description = row[1]\n",
    "\n",
    "        try:\n",
    "            embedding = generate_embeddings(description)\n",
    "            if embedding:\n",
    "                cursor.execute(\n",
    "                    \"UPDATE mydata SET embeddings = %s WHERE year = %s;\",\n",
    "                    (json.dumps(embedding), year)\n",
    "                )\n",
    "                print(f\"Updated embeddings for year: {year}\")\n",
    "            if i % 100 == 0:\n",
    "                conn.commit()\n",
    "                print(f\"Committed after processing {i} records.\")\n",
    "\n",
    "        except Exception as update_error:\n",
    "            print(f\"Error updating record for year {year}: {update_error}\")\n",
    "            conn.rollback()\n",
    "    conn.commit()\n",
    "    print(\"All embeddings generated and stored successfully.\")\n",
    "\n",
    "except Exception as e:\n",
    "    print(f\"Error generating embeddings: {e}\")\n",
    "\n",
    "finally:\n",
    "    if cursor:\n",
    "        cursor.close()\n",
    "    if conn:\n",
    "        conn.close()\n",
    "    print(\"Database connection closed.\")"
   ]
  },
  {
   "cell_type": "code",
   "execution_count": 27,
   "metadata": {},
   "outputs": [
    {
     "name": "stdout",
     "output_type": "stream",
     "text": [
      "Top 1 (Similarity: 0.8459):\n",
      "The term 'Artificial Intelligence' was coined at the Dartmouth Conference, marking the birth of AI as a field of study.\n",
      "\n",
      "Top 2 (Similarity: 0.8272):\n",
      "Advancements in generative models like GPT and Stable Diffusion transformed AI's ability to create text, images, and more.\n",
      "\n"
     ]
    }
   ],
   "source": [
    "import numpy as np\n",
    "import psycopg2\n",
    "import openai\n",
    "import json\n",
    "\n",
    "def cosine_similarity(vec1, vec2):\n",
    "    vec1 = np.array(vec1)\n",
    "    vec2 = np.array(vec2)\n",
    "    return np.dot(vec1, vec2) / (np.linalg.norm(vec1) * np.linalg.norm(vec2))\n",
    "def retrieve_similar_rows(query, top_k=2):\n",
    "    query_embedding = openai.Embedding.create(\n",
    "        input=query,\n",
    "        model=\"text-embedding-ada-002\"\n",
    "    )['data'][0]['embedding']\n",
    "    conn = psycopg2.connect(**db_params)\n",
    "    cursor = conn.cursor()\n",
    "    cursor.execute(\"SELECT description, embeddings FROM mydata WHERE embeddings IS NOT NULL;\")\n",
    "    rows = cursor.fetchall()\n",
    "\n",
    "    results = []\n",
    "    for row in rows:\n",
    "        description = row[0]\n",
    "        embedding = row[1] \n",
    "        similarity = cosine_similarity(query_embedding, embedding)\n",
    "        results.append((description, similarity))\n",
    "    results = sorted(results, key=lambda x: x[1], reverse=True)\n",
    "    conn.close()\n",
    "    return results[:top_k]\n",
    "\n",
    "query = \"What are the key milestones in AI history?\"\n",
    "top_results = retrieve_similar_rows(query)\n",
    "for i, (description, score) in enumerate(top_results, 1):\n",
    "    print(f\"Top {i} (Similarity: {score:.4f}):\\n{description}\\n\")"
   ]
  },
  {
   "cell_type": "code",
   "execution_count": 28,
   "metadata": {},
   "outputs": [
    {
     "name": "stdout",
     "output_type": "stream",
     "text": [
      "Some of the most significant milestones in AI history include the coining of the term 'Artificial Intelligence' at the Dartmouth Conference in 1956, the development of the first AI programs in the 1950s and 1960s, the creation of expert systems in the 1970s and 1980s, and the resurgence of AI in the 21st century with advancements in machine learning and deep learning technologies.\n"
     ]
    }
   ],
   "source": [
    "def ask_question(question):\n",
    "    top_result = retrieve_similar_rows(question)\n",
    "    if not top_result:\n",
    "        return \"I'm sorry, I couldn't find relevant information in the database.\"\n",
    "    top_description, _ = top_result[0]\n",
    "    context = f\"- {top_description}\"\n",
    "    chain = LLMChain(llm=llm, prompt=retrieval_prompt)\n",
    "    response = chain.run({\"question\": question, \"context\": context})\n",
    "    return response.strip()\n",
    "\n",
    "\n",
    "user_question = \"What are the most significant milestones in AI history?\"\n",
    "response = ask_question(user_question)\n",
    "print(response)"
   ]
  },
  {
   "cell_type": "code",
   "execution_count": null,
   "metadata": {},
   "outputs": [],
   "source": []
  }
 ],
 "metadata": {
  "kernelspec": {
   "display_name": "Python (env)",
   "language": "python",
   "name": "env"
  },
  "language_info": {
   "codemirror_mode": {
    "name": "ipython",
    "version": 3
   },
   "file_extension": ".py",
   "mimetype": "text/x-python",
   "name": "python",
   "nbconvert_exporter": "python",
   "pygments_lexer": "ipython3",
   "version": "3.12.4"
  }
 },
 "nbformat": 4,
 "nbformat_minor": 2
}
